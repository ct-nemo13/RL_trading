{
 "cells": [
  {
   "cell_type": "code",
   "execution_count": 3,
   "id": "b41ee78d",
   "metadata": {},
   "outputs": [
    {
     "name": "stderr",
     "output_type": "stream",
     "text": [
      "2025-02-18 20:32:53,105\tINFO util.py:154 -- Missing packages: ['ipywidgets']. Run `pip install -U ipywidgets`, then restart the notebook server for rich notebook output.\n"
     ]
    },
    {
     "name": "stdout",
     "output_type": "stream",
     "text": [
      "The recalled Check Point: policies/default_LSTM_v1/agent_0/0\n"
     ]
    },
    {
     "ename": "ArrowInvalid",
     "evalue": "URI has empty scheme: 'policies/default_LSTM_v1/agent_0/0'",
     "output_type": "error",
     "traceback": [
      "\u001b[1;31m---------------------------------------------------------------------------\u001b[0m",
      "\u001b[1;31mArrowInvalid\u001b[0m                              Traceback (most recent call last)",
      "Cell \u001b[1;32mIn[3], line 7\u001b[0m\n\u001b[0;32m      5\u001b[0m check_point \u001b[38;5;241m=\u001b[39m \u001b[38;5;124m'\u001b[39m\u001b[38;5;124mpolicies/\u001b[39m\u001b[38;5;124m'\u001b[39m \u001b[38;5;241m+\u001b[39m policy \u001b[38;5;241m+\u001b[39m \u001b[38;5;124m'\u001b[39m\u001b[38;5;124m/agent_\u001b[39m\u001b[38;5;124m'\u001b[39m \u001b[38;5;241m+\u001b[39m \u001b[38;5;124m'\u001b[39m\u001b[38;5;124m0/0\u001b[39m\u001b[38;5;124m'\u001b[39m\n\u001b[0;32m      6\u001b[0m \u001b[38;5;28mprint\u001b[39m(\u001b[38;5;124m'\u001b[39m\u001b[38;5;124mThe recalled Check Point: \u001b[39m\u001b[38;5;124m'\u001b[39m \u001b[38;5;241m+\u001b[39m check_point)\n\u001b[1;32m----> 7\u001b[0m agent \u001b[38;5;241m=\u001b[39m \u001b[43mAlgorithm\u001b[49m\u001b[38;5;241;43m.\u001b[39;49m\u001b[43mfrom_checkpoint\u001b[49m\u001b[43m(\u001b[49m\u001b[43mcheck_point\u001b[49m\u001b[43m)\u001b[49m\n\u001b[0;32m      8\u001b[0m \u001b[38;5;28mprint\u001b[39m(agent\u001b[38;5;241m.\u001b[39mget_policy()\u001b[38;5;241m.\u001b[39mmodel\u001b[38;5;241m.\u001b[39mbase_model\u001b[38;5;241m.\u001b[39msummary())\n\u001b[0;32m      9\u001b[0m \u001b[38;5;28mprint\u001b[39m(agent\u001b[38;5;241m.\u001b[39mget_policy()\u001b[38;5;241m.\u001b[39mmodel\u001b[38;5;241m.\u001b[39m_rnn_model\u001b[38;5;241m.\u001b[39msummary())\n",
      "File \u001b[1;32m~\\anaconda3\\envs\\RL_Trading\\lib\\site-packages\\ray\\rllib\\algorithms\\algorithm.py:367\u001b[0m, in \u001b[0;36mAlgorithm.from_checkpoint\u001b[1;34m(cls, path, filesystem, policy_ids, policy_mapping_fn, policies_to_train, checkpoint, **kwargs)\u001b[0m\n\u001b[0;32m    362\u001b[0m \u001b[38;5;28;01mif\u001b[39;00m path \u001b[38;5;129;01mis\u001b[39;00m \u001b[38;5;28;01mNone\u001b[39;00m:\n\u001b[0;32m    363\u001b[0m     \u001b[38;5;28;01mraise\u001b[39;00m \u001b[38;5;167;01mValueError\u001b[39;00m(\n\u001b[0;32m    364\u001b[0m         \u001b[38;5;124m\"\u001b[39m\u001b[38;5;124m`path` not provided in call to Algorithm.from_checkpoint()!\u001b[39m\u001b[38;5;124m\"\u001b[39m\n\u001b[0;32m    365\u001b[0m     )\n\u001b[1;32m--> 367\u001b[0m checkpoint_info \u001b[38;5;241m=\u001b[39m \u001b[43mget_checkpoint_info\u001b[49m\u001b[43m(\u001b[49m\u001b[43mpath\u001b[49m\u001b[43m)\u001b[49m\n\u001b[0;32m    369\u001b[0m \u001b[38;5;66;03m# Not possible for (v0.1) (algo class and config information missing\u001b[39;00m\n\u001b[0;32m    370\u001b[0m \u001b[38;5;66;03m# or very hard to retrieve).\u001b[39;00m\n\u001b[0;32m    371\u001b[0m \u001b[38;5;28;01mif\u001b[39;00m checkpoint_info[\u001b[38;5;124m\"\u001b[39m\u001b[38;5;124mcheckpoint_version\u001b[39m\u001b[38;5;124m\"\u001b[39m] \u001b[38;5;241m==\u001b[39m version\u001b[38;5;241m.\u001b[39mVersion(\u001b[38;5;124m\"\u001b[39m\u001b[38;5;124m0.1\u001b[39m\u001b[38;5;124m\"\u001b[39m):\n",
      "File \u001b[1;32m~\\anaconda3\\envs\\RL_Trading\\lib\\site-packages\\ray\\rllib\\utils\\checkpoints.py:734\u001b[0m, in \u001b[0;36mget_checkpoint_info\u001b[1;34m(checkpoint, filesystem)\u001b[0m\n\u001b[0;32m    729\u001b[0m     checkpoint \u001b[38;5;241m=\u001b[39m checkpoint\u001b[38;5;241m.\u001b[39mto_directory()\n\u001b[0;32m    731\u001b[0m \u001b[38;5;28;01mif\u001b[39;00m checkpoint \u001b[38;5;129;01mand\u001b[39;00m \u001b[38;5;129;01mnot\u001b[39;00m filesystem:\n\u001b[0;32m    732\u001b[0m     \u001b[38;5;66;03m# Note the path needs to be a path that is relative to the\u001b[39;00m\n\u001b[0;32m    733\u001b[0m     \u001b[38;5;66;03m# filesystem (e.g. `gs://tmp/...` -> `tmp/...`).\u001b[39;00m\n\u001b[1;32m--> 734\u001b[0m     filesystem, checkpoint \u001b[38;5;241m=\u001b[39m \u001b[43mpyarrow\u001b[49m\u001b[38;5;241;43m.\u001b[39;49m\u001b[43mfs\u001b[49m\u001b[38;5;241;43m.\u001b[39;49m\u001b[43mFileSystem\u001b[49m\u001b[38;5;241;43m.\u001b[39;49m\u001b[43mfrom_uri\u001b[49m\u001b[43m(\u001b[49m\u001b[43mcheckpoint\u001b[49m\u001b[43m)\u001b[49m\n\u001b[0;32m    735\u001b[0m \u001b[38;5;66;03m# Only here convert to a `Path` instance b/c otherwise\u001b[39;00m\n\u001b[0;32m    736\u001b[0m \u001b[38;5;66;03m# cloud path gets broken (i.e. 'gs://' -> 'gs:/').\u001b[39;00m\n\u001b[0;32m    737\u001b[0m checkpoint \u001b[38;5;241m=\u001b[39m pathlib\u001b[38;5;241m.\u001b[39mPath(checkpoint)\n",
      "File \u001b[1;32m~\\anaconda3\\envs\\RL_Trading\\lib\\site-packages\\pyarrow\\_fs.pyx:477\u001b[0m, in \u001b[0;36mpyarrow._fs.FileSystem.from_uri\u001b[1;34m()\u001b[0m\n",
      "File \u001b[1;32m~\\anaconda3\\envs\\RL_Trading\\lib\\site-packages\\pyarrow\\error.pxi:155\u001b[0m, in \u001b[0;36mpyarrow.lib.pyarrow_internal_check_status\u001b[1;34m()\u001b[0m\n",
      "File \u001b[1;32m~\\anaconda3\\envs\\RL_Trading\\lib\\site-packages\\pyarrow\\error.pxi:92\u001b[0m, in \u001b[0;36mpyarrow.lib.check_status\u001b[1;34m()\u001b[0m\n",
      "\u001b[1;31mArrowInvalid\u001b[0m: URI has empty scheme: 'policies/default_LSTM_v1/agent_0/0'"
     ]
    }
   ],
   "source": [
    "from ray.rllib.algorithms.algorithm import Algorithm\n",
    "#from ray.rllib.algorithms.ppo import PPOConfig\n",
    "\n",
    "policy = 'default_LSTM_v1'\n",
    "check_point = 'policies/' + policy + '/agent_' + '0/0'\n",
    "print('The recalled Check Point: ' + check_point)\n",
    "agent = Algorithm.from_checkpoint(check_point)\n",
    "print(agent.get_policy().model.base_model.summary())\n",
    "print(agent.get_policy().model._rnn_model.summary())"
   ]
  },
  {
   "cell_type": "code",
   "execution_count": 2,
   "id": "ac0b2d39",
   "metadata": {},
   "outputs": [],
   "source": [
    "import ray\n",
    "ray.shutdown()"
   ]
  },
  {
   "cell_type": "code",
   "execution_count": null,
   "id": "92436071",
   "metadata": {},
   "outputs": [],
   "source": []
  }
 ],
 "metadata": {
  "kernelspec": {
   "display_name": "Python 3 (ipykernel)",
   "language": "python",
   "name": "python3"
  },
  "language_info": {
   "codemirror_mode": {
    "name": "ipython",
    "version": 3
   },
   "file_extension": ".py",
   "mimetype": "text/x-python",
   "name": "python",
   "nbconvert_exporter": "python",
   "pygments_lexer": "ipython3",
   "version": "3.10.16"
  }
 },
 "nbformat": 4,
 "nbformat_minor": 5
}
